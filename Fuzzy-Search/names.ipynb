{
 "cells": [
  {
   "cell_type": "code",
   "execution_count": 2,
   "metadata": {},
   "outputs": [],
   "source": [
    "import numpy as np\n",
    "import pandas as pd\n",
    "from thefuzz import fuzz"
   ]
  },
  {
   "cell_type": "code",
   "execution_count": 3,
   "metadata": {},
   "outputs": [],
   "source": [
    "names = pd.read_csv('./base_names.csv')\n",
    "variations = pd.read_csv('./name_variations.csv')"
   ]
  },
  {
   "cell_type": "code",
   "execution_count": 5,
   "metadata": {},
   "outputs": [
    {
     "data": {
      "text/html": [
       "<div>\n",
       "<style scoped>\n",
       "    .dataframe tbody tr th:only-of-type {\n",
       "        vertical-align: middle;\n",
       "    }\n",
       "\n",
       "    .dataframe tbody tr th {\n",
       "        vertical-align: top;\n",
       "    }\n",
       "\n",
       "    .dataframe thead th {\n",
       "        text-align: right;\n",
       "    }\n",
       "</style>\n",
       "<table border=\"1\" class=\"dataframe\">\n",
       "  <thead>\n",
       "    <tr style=\"text-align: right;\">\n",
       "      <th></th>\n",
       "      <th>Variation</th>\n",
       "      <th>Matches_With_Base_Name</th>\n",
       "    </tr>\n",
       "  </thead>\n",
       "  <tbody>\n",
       "    <tr>\n",
       "      <th>0</th>\n",
       "      <td>Thomas  King</td>\n",
       "      <td>Thomas King</td>\n",
       "    </tr>\n",
       "    <tr>\n",
       "      <th>1</th>\n",
       "      <td>ThomasKing</td>\n",
       "      <td>Thomas King</td>\n",
       "    </tr>\n",
       "    <tr>\n",
       "      <th>2</th>\n",
       "      <td>Maria Garcia</td>\n",
       "      <td>Maria Garcia</td>\n",
       "    </tr>\n",
       "    <tr>\n",
       "      <th>3</th>\n",
       "      <td>MaryLewis</td>\n",
       "      <td>Mary Lewis</td>\n",
       "    </tr>\n",
       "    <tr>\n",
       "      <th>4</th>\n",
       "      <td>Nancy W.</td>\n",
       "      <td>Nancy Wright</td>\n",
       "    </tr>\n",
       "    <tr>\n",
       "      <th>...</th>\n",
       "      <td>...</td>\n",
       "      <td>...</td>\n",
       "    </tr>\n",
       "    <tr>\n",
       "      <th>95</th>\n",
       "      <td>Jennifer- Brown</td>\n",
       "      <td>Jennifer Brown</td>\n",
       "    </tr>\n",
       "    <tr>\n",
       "      <th>96</th>\n",
       "      <td>Daniel- Scott</td>\n",
       "      <td>Daniel Scott</td>\n",
       "    </tr>\n",
       "    <tr>\n",
       "      <th>97</th>\n",
       "      <td>David M.</td>\n",
       "      <td>David Martinez</td>\n",
       "    </tr>\n",
       "    <tr>\n",
       "      <th>98</th>\n",
       "      <td>Paul Allen.</td>\n",
       "      <td>Paul Allen</td>\n",
       "    </tr>\n",
       "    <tr>\n",
       "      <th>99</th>\n",
       "      <td>Paul  Allen</td>\n",
       "      <td>Paul Allen</td>\n",
       "    </tr>\n",
       "  </tbody>\n",
       "</table>\n",
       "<p>100 rows × 2 columns</p>\n",
       "</div>"
      ],
      "text/plain": [
       "          Variation Matches_With_Base_Name\n",
       "0      Thomas  King            Thomas King\n",
       "1        ThomasKing            Thomas King\n",
       "2      Maria Garcia           Maria Garcia\n",
       "3         MaryLewis             Mary Lewis\n",
       "4          Nancy W.           Nancy Wright\n",
       "..              ...                    ...\n",
       "95  Jennifer- Brown         Jennifer Brown\n",
       "96    Daniel- Scott           Daniel Scott\n",
       "97         David M.         David Martinez\n",
       "98      Paul Allen.             Paul Allen\n",
       "99      Paul  Allen             Paul Allen\n",
       "\n",
       "[100 rows x 2 columns]"
      ]
     },
     "execution_count": 5,
     "metadata": {},
     "output_type": "execute_result"
    }
   ],
   "source": [
    "variations"
   ]
  },
  {
   "cell_type": "code",
   "execution_count": 8,
   "metadata": {},
   "outputs": [],
   "source": [
    "real_names = names['Base_Name'].to_list()\n",
    "varied_names = variations['Variation'].to_list()\n",
    "matches = []"
   ]
  },
  {
   "cell_type": "code",
   "execution_count": 9,
   "metadata": {},
   "outputs": [],
   "source": [
    "for v in varied_names:\n",
    "    current = -1e5\n",
    "    match = None\n",
    "    for r in real_names:\n",
    "        newCurrent = max(current, fuzz.ratio(v, r))\n",
    "        if newCurrent!=current:\n",
    "            match = r\n",
    "            current = newCurrent\n",
    "    matches.append(match)"
   ]
  },
  {
   "cell_type": "code",
   "execution_count": 10,
   "metadata": {},
   "outputs": [
    {
     "data": {
      "text/plain": [
       "['Thomas King',\n",
       " 'Thomas King',\n",
       " 'Maria Garcia',\n",
       " 'Mary Lewis',\n",
       " 'Nancy Wright',\n",
       " 'Daniel Scott',\n",
       " 'John Smith',\n",
       " 'Linda Johnson',\n",
       " 'Nancy Wright',\n",
       " 'William Davis',\n",
       " 'Susan Clark',\n",
       " 'Susan Clark',\n",
       " 'Jennifer Brown',\n",
       " \"Michael O'Connor\",\n",
       " 'James Rodriguez',\n",
       " 'Elizabeth Wilson',\n",
       " 'Sandra Hill',\n",
       " 'Thomas King',\n",
       " 'Christopher Green',\n",
       " 'William Davis',\n",
       " 'Linda Johnson',\n",
       " 'John Smith',\n",
       " 'Nancy Wright',\n",
       " 'Robert Lee',\n",
       " 'Christopher Green',\n",
       " 'Thomas King',\n",
       " 'Robert Lee',\n",
       " 'Karen Young',\n",
       " 'David Martinez',\n",
       " 'Nancy Wright',\n",
       " 'Elizabeth Wilson',\n",
       " 'Maria Garcia',\n",
       " 'Robert Lee',\n",
       " 'Nancy Wright',\n",
       " 'Maria Garcia',\n",
       " 'Sandra Hill',\n",
       " 'Mary Lewis',\n",
       " 'Jessica Adams',\n",
       " 'William Davis',\n",
       " 'Maria Garcia',\n",
       " 'Jennifer Brown',\n",
       " 'Jennifer Brown',\n",
       " 'Mary Lewis',\n",
       " 'Susan Clark',\n",
       " \"Michael O'Connor\",\n",
       " 'Susan Clark',\n",
       " 'Sandra Hill',\n",
       " \"Michael O'Connor\",\n",
       " 'Christopher Green',\n",
       " 'Daniel Scott',\n",
       " 'John Smith',\n",
       " 'Jessica Adams',\n",
       " 'Mary Lewis',\n",
       " 'Elizabeth Wilson',\n",
       " 'Sandra Hill',\n",
       " 'Linda Johnson',\n",
       " 'Jessica Adams',\n",
       " 'Daniel Scott',\n",
       " 'Paul Allen',\n",
       " 'Paul Allen',\n",
       " 'Susan Clark',\n",
       " 'James Rodriguez',\n",
       " 'Thomas King',\n",
       " 'Linda Johnson',\n",
       " 'Elizabeth Wilson',\n",
       " 'Karen Young',\n",
       " \"Michael O'Connor\",\n",
       " 'Linda Johnson',\n",
       " 'Maria Garcia',\n",
       " 'Sandra Hill',\n",
       " 'Jessica Adams',\n",
       " 'Mary Lewis',\n",
       " 'Christopher Green',\n",
       " 'James Rodriguez',\n",
       " 'Christopher Green',\n",
       " 'William Davis',\n",
       " 'James Rodriguez',\n",
       " 'Robert Lee',\n",
       " 'Robert Lee',\n",
       " 'Karen Young',\n",
       " 'Elizabeth Wilson',\n",
       " 'David Martinez',\n",
       " 'Daniel Scott',\n",
       " 'David Martinez',\n",
       " 'James Rodriguez',\n",
       " 'Karen Young',\n",
       " 'William Davis',\n",
       " 'John Smith',\n",
       " 'John Smith',\n",
       " 'David Martinez',\n",
       " 'Susan Clark',\n",
       " 'Jessica Adams',\n",
       " \"Michael O'Connor\",\n",
       " 'Paul Allen',\n",
       " 'Jennifer Brown',\n",
       " 'Jennifer Brown',\n",
       " 'Daniel Scott',\n",
       " 'David Martinez',\n",
       " 'Paul Allen',\n",
       " 'Paul Allen']"
      ]
     },
     "execution_count": 10,
     "metadata": {},
     "output_type": "execute_result"
    }
   ],
   "source": [
    "matches"
   ]
  },
  {
   "cell_type": "code",
   "execution_count": 11,
   "metadata": {},
   "outputs": [],
   "source": [
    "variations['matches'] = matches"
   ]
  },
  {
   "cell_type": "code",
   "execution_count": 12,
   "metadata": {},
   "outputs": [
    {
     "data": {
      "text/html": [
       "<div>\n",
       "<style scoped>\n",
       "    .dataframe tbody tr th:only-of-type {\n",
       "        vertical-align: middle;\n",
       "    }\n",
       "\n",
       "    .dataframe tbody tr th {\n",
       "        vertical-align: top;\n",
       "    }\n",
       "\n",
       "    .dataframe thead th {\n",
       "        text-align: right;\n",
       "    }\n",
       "</style>\n",
       "<table border=\"1\" class=\"dataframe\">\n",
       "  <thead>\n",
       "    <tr style=\"text-align: right;\">\n",
       "      <th></th>\n",
       "      <th>Variation</th>\n",
       "      <th>Matches_With_Base_Name</th>\n",
       "      <th>matches</th>\n",
       "    </tr>\n",
       "  </thead>\n",
       "  <tbody>\n",
       "    <tr>\n",
       "      <th>0</th>\n",
       "      <td>Thomas  King</td>\n",
       "      <td>Thomas King</td>\n",
       "      <td>Thomas King</td>\n",
       "    </tr>\n",
       "    <tr>\n",
       "      <th>1</th>\n",
       "      <td>ThomasKing</td>\n",
       "      <td>Thomas King</td>\n",
       "      <td>Thomas King</td>\n",
       "    </tr>\n",
       "    <tr>\n",
       "      <th>2</th>\n",
       "      <td>Maria Garcia</td>\n",
       "      <td>Maria Garcia</td>\n",
       "      <td>Maria Garcia</td>\n",
       "    </tr>\n",
       "    <tr>\n",
       "      <th>3</th>\n",
       "      <td>MaryLewis</td>\n",
       "      <td>Mary Lewis</td>\n",
       "      <td>Mary Lewis</td>\n",
       "    </tr>\n",
       "    <tr>\n",
       "      <th>4</th>\n",
       "      <td>Nancy W.</td>\n",
       "      <td>Nancy Wright</td>\n",
       "      <td>Nancy Wright</td>\n",
       "    </tr>\n",
       "    <tr>\n",
       "      <th>...</th>\n",
       "      <td>...</td>\n",
       "      <td>...</td>\n",
       "      <td>...</td>\n",
       "    </tr>\n",
       "    <tr>\n",
       "      <th>95</th>\n",
       "      <td>Jennifer- Brown</td>\n",
       "      <td>Jennifer Brown</td>\n",
       "      <td>Jennifer Brown</td>\n",
       "    </tr>\n",
       "    <tr>\n",
       "      <th>96</th>\n",
       "      <td>Daniel- Scott</td>\n",
       "      <td>Daniel Scott</td>\n",
       "      <td>Daniel Scott</td>\n",
       "    </tr>\n",
       "    <tr>\n",
       "      <th>97</th>\n",
       "      <td>David M.</td>\n",
       "      <td>David Martinez</td>\n",
       "      <td>David Martinez</td>\n",
       "    </tr>\n",
       "    <tr>\n",
       "      <th>98</th>\n",
       "      <td>Paul Allen.</td>\n",
       "      <td>Paul Allen</td>\n",
       "      <td>Paul Allen</td>\n",
       "    </tr>\n",
       "    <tr>\n",
       "      <th>99</th>\n",
       "      <td>Paul  Allen</td>\n",
       "      <td>Paul Allen</td>\n",
       "      <td>Paul Allen</td>\n",
       "    </tr>\n",
       "  </tbody>\n",
       "</table>\n",
       "<p>100 rows × 3 columns</p>\n",
       "</div>"
      ],
      "text/plain": [
       "          Variation Matches_With_Base_Name         matches\n",
       "0      Thomas  King            Thomas King     Thomas King\n",
       "1        ThomasKing            Thomas King     Thomas King\n",
       "2      Maria Garcia           Maria Garcia    Maria Garcia\n",
       "3         MaryLewis             Mary Lewis      Mary Lewis\n",
       "4          Nancy W.           Nancy Wright    Nancy Wright\n",
       "..              ...                    ...             ...\n",
       "95  Jennifer- Brown         Jennifer Brown  Jennifer Brown\n",
       "96    Daniel- Scott           Daniel Scott    Daniel Scott\n",
       "97         David M.         David Martinez  David Martinez\n",
       "98      Paul Allen.             Paul Allen      Paul Allen\n",
       "99      Paul  Allen             Paul Allen      Paul Allen\n",
       "\n",
       "[100 rows x 3 columns]"
      ]
     },
     "execution_count": 12,
     "metadata": {},
     "output_type": "execute_result"
    }
   ],
   "source": [
    "variations"
   ]
  },
  {
   "cell_type": "code",
   "execution_count": 15,
   "metadata": {},
   "outputs": [
    {
     "data": {
      "text/html": [
       "<div>\n",
       "<style scoped>\n",
       "    .dataframe tbody tr th:only-of-type {\n",
       "        vertical-align: middle;\n",
       "    }\n",
       "\n",
       "    .dataframe tbody tr th {\n",
       "        vertical-align: top;\n",
       "    }\n",
       "\n",
       "    .dataframe thead th {\n",
       "        text-align: right;\n",
       "    }\n",
       "</style>\n",
       "<table border=\"1\" class=\"dataframe\">\n",
       "  <thead>\n",
       "    <tr style=\"text-align: right;\">\n",
       "      <th></th>\n",
       "      <th>Variation</th>\n",
       "      <th>Matches_With_Base_Name</th>\n",
       "      <th>matches</th>\n",
       "    </tr>\n",
       "  </thead>\n",
       "  <tbody>\n",
       "    <tr>\n",
       "      <th>90</th>\n",
       "      <td>Young Karen</td>\n",
       "      <td>Karen Young</td>\n",
       "      <td>Susan Clark</td>\n",
       "    </tr>\n",
       "  </tbody>\n",
       "</table>\n",
       "</div>"
      ],
      "text/plain": [
       "      Variation Matches_With_Base_Name      matches\n",
       "90  Young Karen            Karen Young  Susan Clark"
      ]
     },
     "execution_count": 15,
     "metadata": {},
     "output_type": "execute_result"
    }
   ],
   "source": [
    "variations.loc[variations['Matches_With_Base_Name'] != matches]"
   ]
  },
  {
   "cell_type": "code",
   "execution_count": 18,
   "metadata": {},
   "outputs": [
    {
     "data": {
      "text/plain": [
       "45"
      ]
     },
     "execution_count": 18,
     "metadata": {},
     "output_type": "execute_result"
    }
   ],
   "source": [
    "fuzz.ratio('Young Karen', 'Karen Young')"
   ]
  },
  {
   "cell_type": "code",
   "execution_count": 19,
   "metadata": {},
   "outputs": [
    {
     "data": {
      "text/plain": [
       "45"
      ]
     },
     "execution_count": 19,
     "metadata": {},
     "output_type": "execute_result"
    }
   ],
   "source": [
    "fuzz.ratio('Young Karen', 'Susan Clark')"
   ]
  }
 ],
 "metadata": {
  "kernelspec": {
   "display_name": "Python 3",
   "language": "python",
   "name": "python3"
  },
  "language_info": {
   "codemirror_mode": {
    "name": "ipython",
    "version": 3
   },
   "file_extension": ".py",
   "mimetype": "text/x-python",
   "name": "python",
   "nbconvert_exporter": "python",
   "pygments_lexer": "ipython3",
   "version": "3.12.4"
  }
 },
 "nbformat": 4,
 "nbformat_minor": 2
}
